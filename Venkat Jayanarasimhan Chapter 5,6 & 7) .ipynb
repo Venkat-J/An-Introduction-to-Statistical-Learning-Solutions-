{
 "cells": [
  {
   "cell_type": "markdown",
   "metadata": {},
   "source": [
    "## Venkat Jayanarasimhan | Statistics and Machine Learning Approaches | Chapter 5, 6 & 7"
   ]
  },
  {
   "cell_type": "markdown",
   "metadata": {},
   "source": [
    "### Chapter 5"
   ]
  },
  {
   "cell_type": "markdown",
   "metadata": {},
   "source": [
    "#### Exercise 3"
   ]
  },
  {
   "cell_type": "raw",
   "metadata": {},
   "source": [
    "3. We now review k-fold cross-validation.\n",
    "(a) Explain how k-fold cross-validation is implemented.\n",
    "(b) What are the advantages and disadvantages of k-fold crossvalidation\n",
    "relative to:\n",
    "i. The validation set approach?\n",
    "ii. LOOCV?"
   ]
  },
  {
   "cell_type": "markdown",
   "metadata": {},
   "source": [
    "a\n",
    "k-fold cross-validation is implemented by taking the set of n observations and randomly splitting into k non-overlapping groups. Each of these groups acts as a validation set and the remainder as a training set. The test error is estimated by averaging the k resulting MSE estimates.\n",
    "\n",
    "b\n",
    "i. The validation set approach is conceptually simple and easily implemented as you are simply partitioning the existing training data into two sets. However, there are two drawbacks: (1.) the estimate of the test error rate can be highly variable depending on which observations are included in the training and validation sets. (2.) the validation set error rate may tend to overestimate the test error rate for the model fit on the entire data set.\n",
    "\n",
    "ii. LOOCV is a special case of k-fold cross-validation with k = n. Thus, LOOCV is the most computationally intense method since the model must be fit n times. Also, LOOCV has higher variance, but lower bias, than k-fold CV."
   ]
  },
  {
   "cell_type": "markdown",
   "metadata": {},
   "source": [
    "#### Exercise 8"
   ]
  },
  {
   "cell_type": "raw",
   "metadata": {},
   "source": [
    "8. We will now perform cross-validation on a simulated data set.\n",
    "(a) Generate a simulated data set as follows:\n",
    "> set .seed (1)\n",
    "> x=rnorm (100)\n",
    "> y=x-2* x^2+ rnorm (100)\n",
    "In this data set, what is n and what is p? Write out the model\n",
    "used to generate the data in equation form.\n",
    "(b) Create a scatterplot of X against Y . Comment on what you find.\n",
    "(c) Set a random seed, and then compute the LOOCV errors that\n",
    "result from fitting the following four models using least squares:\n",
    "i. Y = β0 + β1X + \u0003\n",
    "ii. Y = β0 + β1X + β2X2 + \u0003\n",
    "iii. Y = β0 + β1X + β2X2 + β3X3 + \u0003\n",
    "iv. Y = β0 + β1X + β2X2 + β3X3 + β4X4 + \u0003.\n",
    "Note you may find it helpful to use the data.frame() function\n",
    "to create a single data set containing both X and Y ."
   ]
  },
  {
   "cell_type": "code",
   "execution_count": 4,
   "metadata": {},
   "outputs": [],
   "source": [
    "#a\n",
    "\n",
    "set.seed(1)\n",
    "y = rnorm(100)\n",
    "x = rnorm(100)\n",
    "y = x - 2 * x^2 + rnorm(100)"
   ]
  },
  {
   "cell_type": "code",
   "execution_count": 5,
   "metadata": {},
   "outputs": [
    {
     "data": {
      "image/png": "[encoded data removed]",
      "text/plain": [
       "plot without title"
      ]
     },
     "metadata": {},
     "output_type": "display_data"
    }
   ],
   "source": [
    "#b\n",
    "\n",
    "plot(x, y)"
   ]
  },
  {
   "cell_type": "code",
   "execution_count": 12,
   "metadata": {},
   "outputs": [
    {
     "name": "stdout",
     "output_type": "stream",
     "text": [
      "package 'boot' successfully unpacked and MD5 sums checked\n",
      "\n",
      "The downloaded binary packages are in\n",
      "\tC:\\Users\\vjayanarasimhan\\AppData\\Local\\Temp\\RtmpgfkosS\\downloaded_packages\n"
     ]
    },
    {
     "name": "stderr",
     "output_type": "stream",
     "text": [
      "Warning message:\n",
      "\"package 'boot' was built under R version 3.6.3\""
     ]
    },
    {
     "data": {
      "text/html": [
       "<ol class=list-inline>\n",
       "\t<li>5.89097855988843</li>\n",
       "\t<li>5.88881215196093</li>\n",
       "</ol>\n"
      ],
      "text/latex": [
       "\\begin{enumerate*}\n",
       "\\item 5.89097855988843\n",
       "\\item 5.88881215196093\n",
       "\\end{enumerate*}\n"
      ],
      "text/markdown": [
       "1. 5.89097855988843\n",
       "2. 5.88881215196093\n",
       "\n",
       "\n"
      ],
      "text/plain": [
       "[1] 5.890979 5.888812"
      ]
     },
     "metadata": {},
     "output_type": "display_data"
    }
   ],
   "source": [
    "#c\n",
    "\n",
    "install.packages('boot')\n",
    "library(boot)\n",
    "Data = data.frame(x, y)\n",
    "set.seed(1)\n",
    "\n",
    "# i.\n",
    "glm.fit = glm(y ~ x)\n",
    "cv.glm(Data, glm.fit)$delta"
   ]
  },
  {
   "cell_type": "code",
   "execution_count": 13,
   "metadata": {},
   "outputs": [
    {
     "data": {
      "text/html": [
       "<ol class=list-inline>\n",
       "\t<li>1.0865955642745</li>\n",
       "\t<li>1.08632580328877</li>\n",
       "</ol>\n"
      ],
      "text/latex": [
       "\\begin{enumerate*}\n",
       "\\item 1.0865955642745\n",
       "\\item 1.08632580328877\n",
       "\\end{enumerate*}\n"
      ],
      "text/markdown": [
       "1. 1.0865955642745\n",
       "2. 1.08632580328877\n",
       "\n",
       "\n"
      ],
      "text/plain": [
       "[1] 1.086596 1.086326"
      ]
     },
     "metadata": {},
     "output_type": "display_data"
    }
   ],
   "source": [
    "# ii.\n",
    "glm.fit = glm(y ~ poly(x, 2))\n",
    "cv.glm(Data, glm.fit)$delta"
   ]
  },
  {
   "cell_type": "code",
   "execution_count": 14,
   "metadata": {},
   "outputs": [
    {
     "data": {
      "text/html": [
       "<ol class=list-inline>\n",
       "\t<li>1.10258509387339</li>\n",
       "\t<li>1.10222658385953</li>\n",
       "</ol>\n"
      ],
      "text/latex": [
       "\\begin{enumerate*}\n",
       "\\item 1.10258509387339\n",
       "\\item 1.10222658385953\n",
       "\\end{enumerate*}\n"
      ],
      "text/markdown": [
       "1. 1.10258509387339\n",
       "2. 1.10222658385953\n",
       "\n",
       "\n"
      ],
      "text/plain": [
       "[1] 1.102585 1.102227"
      ]
     },
     "metadata": {},
     "output_type": "display_data"
    }
   ],
   "source": [
    "# iii.\n",
    "glm.fit = glm(y ~ poly(x, 3))\n",
    "cv.glm(Data, glm.fit)$delta"
   ]
  },
  {
   "cell_type": "code",
   "execution_count": 15,
   "metadata": {},
   "outputs": [
    {
     "data": {
      "text/html": [
       "<ol class=list-inline>\n",
       "\t<li>1.11477226814507</li>\n",
       "\t<li>1.11433406148513</li>\n",
       "</ol>\n"
      ],
      "text/latex": [
       "\\begin{enumerate*}\n",
       "\\item 1.11477226814507\n",
       "\\item 1.11433406148513\n",
       "\\end{enumerate*}\n"
      ],
      "text/markdown": [
       "1. 1.11477226814507\n",
       "2. 1.11433406148513\n",
       "\n",
       "\n"
      ],
      "text/plain": [
       "[1] 1.114772 1.114334"
      ]
     },
     "metadata": {},
     "output_type": "display_data"
    }
   ],
   "source": [
    "# iv.\n",
    "glm.fit = glm(y ~ poly(x, 4))\n",
    "cv.glm(Data, glm.fit)$delta"
   ]
  },
  {
   "cell_type": "code",
   "execution_count": 16,
   "metadata": {},
   "outputs": [
    {
     "data": {
      "text/html": [
       "<ol class=list-inline>\n",
       "\t<li>5.89097855988842</li>\n",
       "\t<li>5.88881215196093</li>\n",
       "</ol>\n"
      ],
      "text/latex": [
       "\\begin{enumerate*}\n",
       "\\item 5.89097855988842\n",
       "\\item 5.88881215196093\n",
       "\\end{enumerate*}\n"
      ],
      "text/markdown": [
       "1. 5.89097855988842\n",
       "2. 5.88881215196093\n",
       "\n",
       "\n"
      ],
      "text/plain": [
       "[1] 5.890979 5.888812"
      ]
     },
     "metadata": {},
     "output_type": "display_data"
    }
   ],
   "source": [
    "# d\n",
    "\n",
    "set.seed(10)\n",
    "\n",
    "# i.\n",
    "glm.fit = glm(y ~ x)\n",
    "cv.glm(Data, glm.fit)$delta"
   ]
  },
  {
   "cell_type": "code",
   "execution_count": 17,
   "metadata": {},
   "outputs": [
    {
     "data": {
      "text/html": [
       "<ol class=list-inline>\n",
       "\t<li>1.0865955642745</li>\n",
       "\t<li>1.08632580328877</li>\n",
       "</ol>\n"
      ],
      "text/latex": [
       "\\begin{enumerate*}\n",
       "\\item 1.0865955642745\n",
       "\\item 1.08632580328877\n",
       "\\end{enumerate*}\n"
      ],
      "text/markdown": [
       "1. 1.0865955642745\n",
       "2. 1.08632580328877\n",
       "\n",
       "\n"
      ],
      "text/plain": [
       "[1] 1.086596 1.086326"
      ]
     },
     "metadata": {},
     "output_type": "display_data"
    }
   ],
   "source": [
    "# ii.\n",
    "glm.fit = glm(y ~ poly(x, 2))\n",
    "cv.glm(Data, glm.fit)$delta"
   ]
  },
  {
   "cell_type": "code",
   "execution_count": 18,
   "metadata": {},
   "outputs": [
    {
     "data": {
      "text/html": [
       "<ol class=list-inline>\n",
       "\t<li>1.10258509387339</li>\n",
       "\t<li>1.10222658385953</li>\n",
       "</ol>\n"
      ],
      "text/latex": [
       "\\begin{enumerate*}\n",
       "\\item 1.10258509387339\n",
       "\\item 1.10222658385953\n",
       "\\end{enumerate*}\n"
      ],
      "text/markdown": [
       "1. 1.10258509387339\n",
       "2. 1.10222658385953\n",
       "\n",
       "\n"
      ],
      "text/plain": [
       "[1] 1.102585 1.102227"
      ]
     },
     "metadata": {},
     "output_type": "display_data"
    }
   ],
   "source": [
    "# iii.\n",
    "glm.fit = glm(y ~ poly(x, 3))\n",
    "cv.glm(Data, glm.fit)$delta"
   ]
  },
  {
   "cell_type": "code",
   "execution_count": 19,
   "metadata": {},
   "outputs": [
    {
     "data": {
      "text/html": [
       "<ol class=list-inline>\n",
       "\t<li>1.11477226814507</li>\n",
       "\t<li>1.11433406148513</li>\n",
       "</ol>\n"
      ],
      "text/latex": [
       "\\begin{enumerate*}\n",
       "\\item 1.11477226814507\n",
       "\\item 1.11433406148513\n",
       "\\end{enumerate*}\n"
      ],
      "text/markdown": [
       "1. 1.11477226814507\n",
       "2. 1.11433406148513\n",
       "\n",
       "\n"
      ],
      "text/plain": [
       "[1] 1.114772 1.114334"
      ]
     },
     "metadata": {},
     "output_type": "display_data"
    }
   ],
   "source": [
    "# iv.\n",
    "glm.fit = glm(y ~ poly(x, 4))\n",
    "cv.glm(Data, glm.fit)$delta"
   ]
  },
  {
   "cell_type": "raw",
   "metadata": {},
   "source": [
    "Exact same, because LOOCV will be the same since it evaluates n folds of a single observation."
   ]
  },
  {
   "cell_type": "code",
   "execution_count": 20,
   "metadata": {},
   "outputs": [
    {
     "ename": "ERROR",
     "evalue": "Error in parse(text = x, srcfile = src): <text>:3:5: unexpected symbol\n2: \n3: The quadratic\n       ^\n",
     "output_type": "error",
     "traceback": [
      "Error in parse(text = x, srcfile = src): <text>:3:5: unexpected symbol\n2: \n3: The quadratic\n       ^\nTraceback:\n"
     ]
    }
   ],
   "source": [
    "# e\n",
    "\n",
    "The quadratic polynomial had the lowest LOOCV test error rate. This was expected because it matches the true form of Y."
   ]
  },
  {
   "cell_type": "code",
   "execution_count": null,
   "metadata": {},
   "outputs": [],
   "source": [
    "# f\n",
    "\n",
    "summary(glm.fit)"
   ]
  },
  {
   "cell_type": "code",
   "execution_count": null,
   "metadata": {},
   "outputs": [],
   "source": []
  }
 ],
 "metadata": {
  "kernelspec": {
   "display_name": "R",
   "language": "R",
   "name": "ir"
  },
  "language_info": {
   "codemirror_mode": "r",
   "file_extension": ".r",
   "mimetype": "text/x-r-source",
   "name": "R",
   "pygments_lexer": "r",
   "version": "3.6.1"
  }
 },
 "nbformat": 4,
 "nbformat_minor": 4
}
